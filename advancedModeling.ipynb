{
 "cells": [
  {
   "cell_type": "markdown",
   "id": "448249ef",
   "metadata": {},
   "source": [
    "# Advanced Modeling for Titanic Survival Prediction\n",
    "\n",
    "After establishing a baseline understanding of the Titanic dataset through exploratory data analysis and initial predictive modeling, the next step involves applying advanced machine learning algorithms to enhance predictive performance and uncover deeper patterns in the data. Survival on the Titanic was influenced by a variety of interacting factors—such as passenger class, age, gender, and family connections—many of which are non-linear and not easily captured by simplistic models.\n",
    "\n",
    "In this advanced modeling phase, we implement and compare the effectiveness of several powerful classification algorithms:\n",
    "\n",
    "* **Logistic Regression**\n",
    "* **Random Forest Classifier**\n",
    "* **XGBoost Classifier**\n",
    "* **Support Vector Machine (SVM)**\n",
    "\n",
    "Each of these models brings unique strengths to the table. By comparing these models across evaluation metrics such as accuracy, precision, recall, and ROC-AUC, we aim to identify the most suitable approach for accurately predicting passenger survival. The outcome of this analysis will not only refine the predictive model but also provide insights into the critical factors that contributed to survival, shedding light on one of the most historically significant maritime disasters through the lens of modern data science."
   ]
  },
  {
   "cell_type": "markdown",
   "id": "b48ac21f",
   "metadata": {},
   "source": [
    "# Import Libraries"
   ]
  },
  {
   "cell_type": "code",
   "execution_count": 1,
   "id": "23d4be4a",
   "metadata": {},
   "outputs": [],
   "source": [
    "# data structure and visualization libraries\n",
    "import numpy as np\n",
    "import pandas as pd\n",
    "import matplotlib.pyplot as plt\n",
    "import seaborn as sns\n",
    "\n",
    "# machine learning libraries\n",
    "from sklearn.model_selection import train_test_split, GridSearchCV, cross_val_score\n",
    "from sklearn.linear_model import LogisticRegression\n",
    "from sklearn.ensemble import RandomForestClassifier, GradientBoostingClassifier\n",
    "from xgboost import XGBClassifier\n",
    "from sklearn.svm import SVC\n",
    "from xgboost import XGBClassifier\n",
    "from sklearn.metrics import classification_report, confusion_matrix, accuracy_score, precision_score, recall_score, f1_score, roc_curve, auc\n",
    "from sklearn.preprocessing import StandardScaler\n",
    "\n",
    "# ignore warnings\n",
    "import warnings\n",
    "warnings.filterwarnings('ignore')\n",
    "\n",
    "# for saving and loading models\n",
    "import pickle\n",
    "import joblib\n",
    "import datetime"
   ]
  },
  {
   "cell_type": "markdown",
   "id": "8fc8a7bb",
   "metadata": {},
   "source": [
    "# Load and Preapre Data for Modeling"
   ]
  },
  {
   "cell_type": "markdown",
   "id": "d1417137",
   "metadata": {},
   "source": [
    "## Load the dataset"
   ]
  },
  {
   "cell_type": "code",
   "execution_count": 2,
   "id": "3ce5ed72",
   "metadata": {},
   "outputs": [],
   "source": [
    "#  read cleaned Titanic dataset\n",
    "df = pd.read_csv(\"data/titanic_clean.csv\")"
   ]
  },
  {
   "cell_type": "code",
   "execution_count": 3,
   "id": "0259a18d",
   "metadata": {},
   "outputs": [
    {
     "data": {
      "text/html": [
       "<div>\n",
       "<style scoped>\n",
       "    .dataframe tbody tr th:only-of-type {\n",
       "        vertical-align: middle;\n",
       "    }\n",
       "\n",
       "    .dataframe tbody tr th {\n",
       "        vertical-align: top;\n",
       "    }\n",
       "\n",
       "    .dataframe thead th {\n",
       "        text-align: right;\n",
       "    }\n",
       "</style>\n",
       "<table border=\"1\" class=\"dataframe\">\n",
       "  <thead>\n",
       "    <tr style=\"text-align: right;\">\n",
       "      <th></th>\n",
       "      <th>survived</th>\n",
       "      <th>pclass</th>\n",
       "      <th>fare</th>\n",
       "      <th>alone</th>\n",
       "      <th>sex_male</th>\n",
       "      <th>who_man</th>\n",
       "      <th>who_woman</th>\n",
       "      <th>embark_town_Queenstown</th>\n",
       "      <th>embark_town_Southampton</th>\n",
       "    </tr>\n",
       "  </thead>\n",
       "  <tbody>\n",
       "    <tr>\n",
       "      <th>0</th>\n",
       "      <td>0</td>\n",
       "      <td>3</td>\n",
       "      <td>7.2500</td>\n",
       "      <td>False</td>\n",
       "      <td>True</td>\n",
       "      <td>True</td>\n",
       "      <td>False</td>\n",
       "      <td>False</td>\n",
       "      <td>True</td>\n",
       "    </tr>\n",
       "    <tr>\n",
       "      <th>1</th>\n",
       "      <td>1</td>\n",
       "      <td>1</td>\n",
       "      <td>71.2833</td>\n",
       "      <td>False</td>\n",
       "      <td>False</td>\n",
       "      <td>False</td>\n",
       "      <td>True</td>\n",
       "      <td>False</td>\n",
       "      <td>False</td>\n",
       "    </tr>\n",
       "    <tr>\n",
       "      <th>2</th>\n",
       "      <td>1</td>\n",
       "      <td>3</td>\n",
       "      <td>7.9250</td>\n",
       "      <td>True</td>\n",
       "      <td>False</td>\n",
       "      <td>False</td>\n",
       "      <td>True</td>\n",
       "      <td>False</td>\n",
       "      <td>True</td>\n",
       "    </tr>\n",
       "    <tr>\n",
       "      <th>3</th>\n",
       "      <td>1</td>\n",
       "      <td>1</td>\n",
       "      <td>53.1000</td>\n",
       "      <td>False</td>\n",
       "      <td>False</td>\n",
       "      <td>False</td>\n",
       "      <td>True</td>\n",
       "      <td>False</td>\n",
       "      <td>True</td>\n",
       "    </tr>\n",
       "    <tr>\n",
       "      <th>4</th>\n",
       "      <td>0</td>\n",
       "      <td>3</td>\n",
       "      <td>8.0500</td>\n",
       "      <td>True</td>\n",
       "      <td>True</td>\n",
       "      <td>True</td>\n",
       "      <td>False</td>\n",
       "      <td>False</td>\n",
       "      <td>True</td>\n",
       "    </tr>\n",
       "  </tbody>\n",
       "</table>\n",
       "</div>"
      ],
      "text/plain": [
       "   survived  pclass     fare  alone  sex_male  who_man  who_woman  \\\n",
       "0         0       3   7.2500  False      True     True      False   \n",
       "1         1       1  71.2833  False     False    False       True   \n",
       "2         1       3   7.9250   True     False    False       True   \n",
       "3         1       1  53.1000  False     False    False       True   \n",
       "4         0       3   8.0500   True      True     True      False   \n",
       "\n",
       "   embark_town_Queenstown  embark_town_Southampton  \n",
       "0                   False                     True  \n",
       "1                   False                    False  \n",
       "2                   False                     True  \n",
       "3                   False                     True  \n",
       "4                   False                     True  "
      ]
     },
     "execution_count": 3,
     "metadata": {},
     "output_type": "execute_result"
    }
   ],
   "source": [
    "df.head()"
   ]
  },
  {
   "cell_type": "markdown",
   "id": "286d41e5",
   "metadata": {},
   "source": [
    "## Split the dataset into input features (x) and target variable (y)"
   ]
  },
  {
   "cell_type": "code",
   "execution_count": 5,
   "id": "2d86424c",
   "metadata": {},
   "outputs": [],
   "source": [
    "# inpurt features\n",
    "x = df.drop(columns=['survived'], axis=1)\n",
    "\n",
    "# target variable\n",
    "y = df['survived']"
   ]
  },
  {
   "cell_type": "code",
   "execution_count": 6,
   "id": "e13b9a2c",
   "metadata": {},
   "outputs": [
    {
     "name": "stdout",
     "output_type": "stream",
     "text": [
      "Features:\n",
      "    pclass     fare  alone  sex_male  who_man  who_woman  \\\n",
      "0       3   7.2500  False      True     True      False   \n",
      "1       1  71.2833  False     False    False       True   \n",
      "2       3   7.9250   True     False    False       True   \n",
      "3       1  53.1000  False     False    False       True   \n",
      "4       3   8.0500   True      True     True      False   \n",
      "\n",
      "   embark_town_Queenstown  embark_town_Southampton  \n",
      "0                   False                     True  \n",
      "1                   False                    False  \n",
      "2                   False                     True  \n",
      "3                   False                     True  \n",
      "4                   False                     True  \n",
      "\n",
      "\n",
      "Target Variable:\n",
      " 0    0\n",
      "1    1\n",
      "2    1\n",
      "3    1\n",
      "4    0\n",
      "Name: survived, dtype: int64\n"
     ]
    }
   ],
   "source": [
    "# check features and target variable\n",
    "print(\"Features:\\n\", x.head())\n",
    "print()\n",
    "print(\"\\nTarget Variable:\\n\", y.head())"
   ]
  },
  {
   "cell_type": "markdown",
   "id": "467fca4b",
   "metadata": {},
   "source": [
    "## Split the dataset into training and testing sets"
   ]
  },
  {
   "cell_type": "code",
   "execution_count": 7,
   "id": "48e879a0",
   "metadata": {},
   "outputs": [],
   "source": [
    "# split data into training and testing sets (70% train, 30% test)\n",
    "x_train, x_test, y_train, y_test = train_test_split(x, y, test_size = 0.3, random_state=42)"
   ]
  },
  {
   "cell_type": "code",
   "execution_count": null,
   "id": "b6869aff",
   "metadata": {},
   "outputs": [],
   "source": []
  }
 ],
 "metadata": {
  "kernelspec": {
   "display_name": "Python 3",
   "language": "python",
   "name": "python3"
  },
  "language_info": {
   "codemirror_mode": {
    "name": "ipython",
    "version": 3
   },
   "file_extension": ".py",
   "mimetype": "text/x-python",
   "name": "python",
   "nbconvert_exporter": "python",
   "pygments_lexer": "ipython3",
   "version": "3.9.1"
  }
 },
 "nbformat": 4,
 "nbformat_minor": 5
}
