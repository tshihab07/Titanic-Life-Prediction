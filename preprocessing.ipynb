{
 "cells": [
  {
   "cell_type": "markdown",
   "metadata": {},
   "source": [
    "# Data Preprocessing for Titanic Life Prediction\n",
    "\n",
    "**About the Titanic Life Prediction**<br><br>\n",
    "This project uses the built-in `titanic` dataset from the Seaborn library, which contains information about 891 passengers aboard the ill-fated voyage, representing approximately 40% of the actual passengers on board. Each row in the dataset represents a passenger, with various attributes that provide insights into their background, ticket information, and most importantly, whether they survived the disaster.\n",
    "\n",
    "Logistic regression is particularly well-suited for the Titanic dataset because it addresses the fundamental classification problem inherent in the data: predicting whether a passenger survived or perished based on various predictor variables. The primary target variable (`survived`) is binary - passengers either survived (1) or died (0). Logistic regression is specifically designed for binary outcomes, making it a natural choice for this type of classification task. It doesn't just predict class labels; it provides probability estimates of survival.\n",
    "\n",
    "## Libraries\n",
    "- Numpy and pandas\n",
    "- Matplotlib and Seaborn\n",
    "- Warnings (to avoid minor errors)"
   ]
  },
  {
   "cell_type": "markdown",
   "metadata": {},
   "source": [
    "# Tasks\n",
    "- Import Libraries\n",
    "- Load Dataset\n",
    "- Understanding Dataset\n",
    "- Sanity Check\n",
    "- Exploratory Data Analysis\n",
    "- Handling Missing Values\n",
    "- Handle Categorical Values\n",
    "- Handle Outliers\n",
    "- Data Type Optimization\n",
    "- Feature Engineering\n",
    "- Save The File"
   ]
  },
  {
   "cell_type": "markdown",
   "metadata": {},
   "source": [
    "# Import libraries"
   ]
  },
  {
   "cell_type": "code",
   "execution_count": 1,
   "metadata": {},
   "outputs": [],
   "source": [
    "import numpy as np, pandas as pd\n",
    "import matplotlib.pyplot as plt, seaborn as sns\n",
    "\n",
    "import warnings\n",
    "warnings.filterwarnings(\"ignore\")"
   ]
  },
  {
   "cell_type": "markdown",
   "metadata": {},
   "source": [
    "# Load Dataset"
   ]
  },
  {
   "cell_type": "code",
   "execution_count": 2,
   "metadata": {},
   "outputs": [],
   "source": [
    "# loading dataset from seaborn library\n",
    "df = sns.load_dataset('titanic')"
   ]
  },
  {
   "cell_type": "code",
   "execution_count": 3,
   "metadata": {},
   "outputs": [
    {
     "data": {
      "text/html": [
       "<div>\n",
       "<style scoped>\n",
       "    .dataframe tbody tr th:only-of-type {\n",
       "        vertical-align: middle;\n",
       "    }\n",
       "\n",
       "    .dataframe tbody tr th {\n",
       "        vertical-align: top;\n",
       "    }\n",
       "\n",
       "    .dataframe thead th {\n",
       "        text-align: right;\n",
       "    }\n",
       "</style>\n",
       "<table border=\"1\" class=\"dataframe\">\n",
       "  <thead>\n",
       "    <tr style=\"text-align: right;\">\n",
       "      <th></th>\n",
       "      <th>survived</th>\n",
       "      <th>pclass</th>\n",
       "      <th>sex</th>\n",
       "      <th>age</th>\n",
       "      <th>sibsp</th>\n",
       "      <th>parch</th>\n",
       "      <th>fare</th>\n",
       "      <th>embarked</th>\n",
       "      <th>class</th>\n",
       "      <th>who</th>\n",
       "      <th>adult_male</th>\n",
       "      <th>deck</th>\n",
       "      <th>embark_town</th>\n",
       "      <th>alive</th>\n",
       "      <th>alone</th>\n",
       "    </tr>\n",
       "  </thead>\n",
       "  <tbody>\n",
       "    <tr>\n",
       "      <th>0</th>\n",
       "      <td>0</td>\n",
       "      <td>3</td>\n",
       "      <td>male</td>\n",
       "      <td>22.0</td>\n",
       "      <td>1</td>\n",
       "      <td>0</td>\n",
       "      <td>7.2500</td>\n",
       "      <td>S</td>\n",
       "      <td>Third</td>\n",
       "      <td>man</td>\n",
       "      <td>True</td>\n",
       "      <td>NaN</td>\n",
       "      <td>Southampton</td>\n",
       "      <td>no</td>\n",
       "      <td>False</td>\n",
       "    </tr>\n",
       "    <tr>\n",
       "      <th>1</th>\n",
       "      <td>1</td>\n",
       "      <td>1</td>\n",
       "      <td>female</td>\n",
       "      <td>38.0</td>\n",
       "      <td>1</td>\n",
       "      <td>0</td>\n",
       "      <td>71.2833</td>\n",
       "      <td>C</td>\n",
       "      <td>First</td>\n",
       "      <td>woman</td>\n",
       "      <td>False</td>\n",
       "      <td>C</td>\n",
       "      <td>Cherbourg</td>\n",
       "      <td>yes</td>\n",
       "      <td>False</td>\n",
       "    </tr>\n",
       "    <tr>\n",
       "      <th>2</th>\n",
       "      <td>1</td>\n",
       "      <td>3</td>\n",
       "      <td>female</td>\n",
       "      <td>26.0</td>\n",
       "      <td>0</td>\n",
       "      <td>0</td>\n",
       "      <td>7.9250</td>\n",
       "      <td>S</td>\n",
       "      <td>Third</td>\n",
       "      <td>woman</td>\n",
       "      <td>False</td>\n",
       "      <td>NaN</td>\n",
       "      <td>Southampton</td>\n",
       "      <td>yes</td>\n",
       "      <td>True</td>\n",
       "    </tr>\n",
       "    <tr>\n",
       "      <th>3</th>\n",
       "      <td>1</td>\n",
       "      <td>1</td>\n",
       "      <td>female</td>\n",
       "      <td>35.0</td>\n",
       "      <td>1</td>\n",
       "      <td>0</td>\n",
       "      <td>53.1000</td>\n",
       "      <td>S</td>\n",
       "      <td>First</td>\n",
       "      <td>woman</td>\n",
       "      <td>False</td>\n",
       "      <td>C</td>\n",
       "      <td>Southampton</td>\n",
       "      <td>yes</td>\n",
       "      <td>False</td>\n",
       "    </tr>\n",
       "    <tr>\n",
       "      <th>4</th>\n",
       "      <td>0</td>\n",
       "      <td>3</td>\n",
       "      <td>male</td>\n",
       "      <td>35.0</td>\n",
       "      <td>0</td>\n",
       "      <td>0</td>\n",
       "      <td>8.0500</td>\n",
       "      <td>S</td>\n",
       "      <td>Third</td>\n",
       "      <td>man</td>\n",
       "      <td>True</td>\n",
       "      <td>NaN</td>\n",
       "      <td>Southampton</td>\n",
       "      <td>no</td>\n",
       "      <td>True</td>\n",
       "    </tr>\n",
       "  </tbody>\n",
       "</table>\n",
       "</div>"
      ],
      "text/plain": [
       "   survived  pclass     sex   age  sibsp  parch     fare embarked  class  \\\n",
       "0         0       3    male  22.0      1      0   7.2500        S  Third   \n",
       "1         1       1  female  38.0      1      0  71.2833        C  First   \n",
       "2         1       3  female  26.0      0      0   7.9250        S  Third   \n",
       "3         1       1  female  35.0      1      0  53.1000        S  First   \n",
       "4         0       3    male  35.0      0      0   8.0500        S  Third   \n",
       "\n",
       "     who  adult_male deck  embark_town alive  alone  \n",
       "0    man        True  NaN  Southampton    no  False  \n",
       "1  woman       False    C    Cherbourg   yes  False  \n",
       "2  woman       False  NaN  Southampton   yes   True  \n",
       "3  woman       False    C  Southampton   yes  False  \n",
       "4    man        True  NaN  Southampton    no   True  "
      ]
     },
     "execution_count": 3,
     "metadata": {},
     "output_type": "execute_result"
    }
   ],
   "source": [
    "df.head()"
   ]
  },
  {
   "cell_type": "markdown",
   "metadata": {},
   "source": [
    "## Dataset Description\n",
    "| Column Name   | Data Type     | Description                                                                         |\n",
    "| ------------- | ------------- | ----------------------------------------------------------------------------------- |\n",
    "| `survived`    | int (0 or 1)  | Survival status (0 = No, 1 = Yes)                                                   |\n",
    "| `pclass`      | int (1, 2, 3) | Ticket class (1 = 1st, 2 = 2nd, 3 = 3rd)                                            |\n",
    "| `sex`         | category      | Gender of the passenger (`male` or `female`)                                        |\n",
    "| `age`         | float         | Age of the passenger in years                                      |\n",
    "| `sibsp`       | int           | Number of siblings/spouses aboard                                                   |\n",
    "| `parch`       | int           | Number of parents/children aboard                                                   |\n",
    "| `fare`        | float         | Passenger fare (in British Pounds)                                                  |\n",
    "| `embarked`    | category      | Port of embarkation (`C` = Cherbourg, `Q` = Queenstown, `S` = Southampton)          |\n",
    "| `class`       | category      | Passenger class as a label (`First`, `Second`, `Third`)                             |\n",
    "| `who`         | category      | Person type (`man`, `woman`, `child`)                                               |\n",
    "| `adult_male`  | bool          | Whether the passenger is an adult male (`True` or `False`)                          |\n",
    "| `deck`        | category      | Deck level (A–G); extracted from cabin number; missing if unknown                   |\n",
    "| `embark_town` | category      | Name of town where the passenger boarded (`Cherbourg`, `Queenstown`, `Southampton`) |\n",
    "| `alive`       | category      | Survival status as label (`yes`, `no`)                                              |\n",
    "| `alone`       | bool          | Whether the passenger was alone (no family aboard)                                  |\n"
   ]
  },
  {
   "cell_type": "markdown",
   "metadata": {},
   "source": [
    "## Understanding Dataset"
   ]
  },
  {
   "cell_type": "code",
   "execution_count": 4,
   "metadata": {},
   "outputs": [
    {
     "name": "stdout",
     "output_type": "stream",
     "text": [
      "Number of Rows: 891\n",
      "Number of Columns: 15\n"
     ]
    }
   ],
   "source": [
    "# shape of the dataset\n",
    "row, col = df.shape\n",
    "print(\"Number of Rows:\", row)\n",
    "print(\"Number of Columns:\", col)"
   ]
  },
  {
   "cell_type": "code",
   "execution_count": 5,
   "metadata": {},
   "outputs": [
    {
     "name": "stdout",
     "output_type": "stream",
     "text": [
      "<class 'pandas.core.frame.DataFrame'>\n",
      "RangeIndex: 891 entries, 0 to 890\n",
      "Data columns (total 15 columns):\n",
      " #   Column       Non-Null Count  Dtype   \n",
      "---  ------       --------------  -----   \n",
      " 0   survived     891 non-null    int64   \n",
      " 1   pclass       891 non-null    int64   \n",
      " 2   sex          891 non-null    object  \n",
      " 3   age          714 non-null    float64 \n",
      " 4   sibsp        891 non-null    int64   \n",
      " 5   parch        891 non-null    int64   \n",
      " 6   fare         891 non-null    float64 \n",
      " 7   embarked     889 non-null    object  \n",
      " 8   class        891 non-null    category\n",
      " 9   who          891 non-null    object  \n",
      " 10  adult_male   891 non-null    bool    \n",
      " 11  deck         203 non-null    category\n",
      " 12  embark_town  889 non-null    object  \n",
      " 13  alive        891 non-null    object  \n",
      " 14  alone        891 non-null    bool    \n",
      "dtypes: bool(2), category(2), float64(2), int64(4), object(5)\n",
      "memory usage: 80.7+ KB\n"
     ]
    }
   ],
   "source": [
    "# Quick Overview of the dataset\n",
    "df.info()"
   ]
  },
  {
   "cell_type": "code",
   "execution_count": 6,
   "metadata": {},
   "outputs": [
    {
     "data": {
      "text/html": [
       "<div>\n",
       "<style scoped>\n",
       "    .dataframe tbody tr th:only-of-type {\n",
       "        vertical-align: middle;\n",
       "    }\n",
       "\n",
       "    .dataframe tbody tr th {\n",
       "        vertical-align: top;\n",
       "    }\n",
       "\n",
       "    .dataframe thead th {\n",
       "        text-align: right;\n",
       "    }\n",
       "</style>\n",
       "<table border=\"1\" class=\"dataframe\">\n",
       "  <thead>\n",
       "    <tr style=\"text-align: right;\">\n",
       "      <th></th>\n",
       "      <th>count</th>\n",
       "      <th>mean</th>\n",
       "      <th>std</th>\n",
       "      <th>min</th>\n",
       "      <th>25%</th>\n",
       "      <th>50%</th>\n",
       "      <th>75%</th>\n",
       "      <th>max</th>\n",
       "    </tr>\n",
       "  </thead>\n",
       "  <tbody>\n",
       "    <tr>\n",
       "      <th>survived</th>\n",
       "      <td>891.0</td>\n",
       "      <td>0.383838</td>\n",
       "      <td>0.486592</td>\n",
       "      <td>0.00</td>\n",
       "      <td>0.0000</td>\n",
       "      <td>0.0000</td>\n",
       "      <td>1.0</td>\n",
       "      <td>1.0000</td>\n",
       "    </tr>\n",
       "    <tr>\n",
       "      <th>pclass</th>\n",
       "      <td>891.0</td>\n",
       "      <td>2.308642</td>\n",
       "      <td>0.836071</td>\n",
       "      <td>1.00</td>\n",
       "      <td>2.0000</td>\n",
       "      <td>3.0000</td>\n",
       "      <td>3.0</td>\n",
       "      <td>3.0000</td>\n",
       "    </tr>\n",
       "    <tr>\n",
       "      <th>age</th>\n",
       "      <td>714.0</td>\n",
       "      <td>29.699118</td>\n",
       "      <td>14.526497</td>\n",
       "      <td>0.42</td>\n",
       "      <td>20.1250</td>\n",
       "      <td>28.0000</td>\n",
       "      <td>38.0</td>\n",
       "      <td>80.0000</td>\n",
       "    </tr>\n",
       "    <tr>\n",
       "      <th>sibsp</th>\n",
       "      <td>891.0</td>\n",
       "      <td>0.523008</td>\n",
       "      <td>1.102743</td>\n",
       "      <td>0.00</td>\n",
       "      <td>0.0000</td>\n",
       "      <td>0.0000</td>\n",
       "      <td>1.0</td>\n",
       "      <td>8.0000</td>\n",
       "    </tr>\n",
       "    <tr>\n",
       "      <th>parch</th>\n",
       "      <td>891.0</td>\n",
       "      <td>0.381594</td>\n",
       "      <td>0.806057</td>\n",
       "      <td>0.00</td>\n",
       "      <td>0.0000</td>\n",
       "      <td>0.0000</td>\n",
       "      <td>0.0</td>\n",
       "      <td>6.0000</td>\n",
       "    </tr>\n",
       "    <tr>\n",
       "      <th>fare</th>\n",
       "      <td>891.0</td>\n",
       "      <td>32.204208</td>\n",
       "      <td>49.693429</td>\n",
       "      <td>0.00</td>\n",
       "      <td>7.9104</td>\n",
       "      <td>14.4542</td>\n",
       "      <td>31.0</td>\n",
       "      <td>512.3292</td>\n",
       "    </tr>\n",
       "  </tbody>\n",
       "</table>\n",
       "</div>"
      ],
      "text/plain": [
       "          count       mean        std   min      25%      50%   75%       max\n",
       "survived  891.0   0.383838   0.486592  0.00   0.0000   0.0000   1.0    1.0000\n",
       "pclass    891.0   2.308642   0.836071  1.00   2.0000   3.0000   3.0    3.0000\n",
       "age       714.0  29.699118  14.526497  0.42  20.1250  28.0000  38.0   80.0000\n",
       "sibsp     891.0   0.523008   1.102743  0.00   0.0000   0.0000   1.0    8.0000\n",
       "parch     891.0   0.381594   0.806057  0.00   0.0000   0.0000   0.0    6.0000\n",
       "fare      891.0  32.204208  49.693429  0.00   7.9104  14.4542  31.0  512.3292"
      ]
     },
     "execution_count": 6,
     "metadata": {},
     "output_type": "execute_result"
    }
   ],
   "source": [
    "# summary of the dataset\n",
    "df.describe().T"
   ]
  },
  {
   "cell_type": "markdown",
   "metadata": {},
   "source": [
    "# Sanity Check\n",
    "- Duplicate Handling\n",
    "- Missing Value Description\n",
    "- Drop Redundant Columns"
   ]
  },
  {
   "cell_type": "markdown",
   "metadata": {},
   "source": [
    "## Handling Duplicates"
   ]
  },
  {
   "cell_type": "code",
   "execution_count": 7,
   "metadata": {},
   "outputs": [
    {
     "data": {
      "text/plain": [
       "np.int64(107)"
      ]
     },
     "execution_count": 7,
     "metadata": {},
     "output_type": "execute_result"
    }
   ],
   "source": [
    "# check duplicates\n",
    "df.duplicated().sum()"
   ]
  },
  {
   "cell_type": "code",
   "execution_count": 8,
   "metadata": {},
   "outputs": [
    {
     "name": "stdout",
     "output_type": "stream",
     "text": [
      "Sample duplicates:\n",
      "     survived  pclass     sex   age  sibsp  parch     fare embarked   class  \\\n",
      "47          1       3  female   NaN      0      0   7.7500        Q   Third   \n",
      "76          0       3    male   NaN      0      0   7.8958        S   Third   \n",
      "77          0       3    male   NaN      0      0   8.0500        S   Third   \n",
      "87          0       3    male   NaN      0      0   8.0500        S   Third   \n",
      "95          0       3    male   NaN      0      0   8.0500        S   Third   \n",
      "101         0       3    male   NaN      0      0   7.8958        S   Third   \n",
      "121         0       3    male   NaN      0      0   8.0500        S   Third   \n",
      "133         1       2  female  29.0      1      0  26.0000        S  Second   \n",
      "173         0       3    male  21.0      0      0   7.9250        S   Third   \n",
      "196         0       3    male   NaN      0      0   7.7500        Q   Third   \n",
      "\n",
      "       who  adult_male deck  embark_town alive  alone  \n",
      "47   woman       False  NaN   Queenstown   yes   True  \n",
      "76     man        True  NaN  Southampton    no   True  \n",
      "77     man        True  NaN  Southampton    no   True  \n",
      "87     man        True  NaN  Southampton    no   True  \n",
      "95     man        True  NaN  Southampton    no   True  \n",
      "101    man        True  NaN  Southampton    no   True  \n",
      "121    man        True  NaN  Southampton    no   True  \n",
      "133  woman       False  NaN  Southampton   yes  False  \n",
      "173    man        True  NaN  Southampton    no   True  \n",
      "196    man        True  NaN   Queenstown    no   True  \n"
     ]
    }
   ],
   "source": [
    "# Check what makes records \"duplicate\"\n",
    "duplicates = df[df.duplicated()]\n",
    "print(\"Sample duplicates:\")\n",
    "print(duplicates.head(10))"
   ]
  },
  {
   "cell_type": "markdown",
   "metadata": {},
   "source": [
    "**Note:**  We should not drop these duplicates for this dataset even though there are 107 duplicates among 891 entries.\n",
    "\n",
    "**Why Keep Duplicates**\n",
    "- *Real-World Reality:* Multiple passengers genuinely had identical characteristics\n",
    "- *Historical Accuracy:* These represent actual people with same demographics\n",
    "- *Small Dataset:* With only 891 records, removing 107 (12%) would significantly reduce our dataset\n",
    "- *No True Duplicates:* Unlike data entry errors, these are legitimate similar cases\n",
    "\n",
    "**What These Duplicates Likely Represent**\n",
    "- Multiple passengers of the same age, class, gender traveling alone\n",
    "- Families with similar characteristics\n",
    "- Crew members or passengers with identical booking details"
   ]
  },
  {
   "cell_type": "markdown",
   "metadata": {},
   "source": [
    "## Missing Value Description"
   ]
  },
  {
   "cell_type": "code",
   "execution_count": 9,
   "metadata": {},
   "outputs": [
    {
     "data": {
      "text/plain": [
       "survived       False\n",
       "pclass         False\n",
       "sex            False\n",
       "age             True\n",
       "sibsp          False\n",
       "parch          False\n",
       "fare           False\n",
       "embarked        True\n",
       "class          False\n",
       "who            False\n",
       "adult_male     False\n",
       "deck            True\n",
       "embark_town     True\n",
       "alive          False\n",
       "alone          False\n",
       "dtype: bool"
      ]
     },
     "execution_count": 9,
     "metadata": {},
     "output_type": "execute_result"
    }
   ],
   "source": [
    "# columns with missing values\n",
    "df.isnull().any()"
   ]
  },
  {
   "cell_type": "code",
   "execution_count": 10,
   "metadata": {},
   "outputs": [
    {
     "data": {
      "text/plain": [
       "survived        0.000000\n",
       "pclass          0.000000\n",
       "sex             0.000000\n",
       "age            19.865320\n",
       "sibsp           0.000000\n",
       "parch           0.000000\n",
       "fare            0.000000\n",
       "embarked        0.224467\n",
       "class           0.000000\n",
       "who             0.000000\n",
       "adult_male      0.000000\n",
       "deck           77.216611\n",
       "embark_town     0.224467\n",
       "alive           0.000000\n",
       "alone           0.000000\n",
       "dtype: float64"
      ]
     },
     "execution_count": 10,
     "metadata": {},
     "output_type": "execute_result"
    }
   ],
   "source": [
    "# missing percantage\n",
    "df.isnull().sum() / df.shape[0] * 100"
   ]
  },
  {
   "cell_type": "markdown",
   "metadata": {},
   "source": [
    "**Observation and Action**\n",
    "- Missing Values Identified: `age`, `embarked`, `deck`, `embark_town`\n",
    "- Immediate Actions: drop `deck`, handle `embark_town` and `embarked`.\n",
    "- Future Actions: Validate imputations for `age`"
   ]
  },
  {
   "cell_type": "code",
   "execution_count": 11,
   "metadata": {},
   "outputs": [
    {
     "data": {
      "text/html": [
       "<div>\n",
       "<style scoped>\n",
       "    .dataframe tbody tr th:only-of-type {\n",
       "        vertical-align: middle;\n",
       "    }\n",
       "\n",
       "    .dataframe tbody tr th {\n",
       "        vertical-align: top;\n",
       "    }\n",
       "\n",
       "    .dataframe thead th {\n",
       "        text-align: right;\n",
       "    }\n",
       "</style>\n",
       "<table border=\"1\" class=\"dataframe\">\n",
       "  <thead>\n",
       "    <tr style=\"text-align: right;\">\n",
       "      <th></th>\n",
       "      <th>survived</th>\n",
       "      <th>pclass</th>\n",
       "      <th>sex</th>\n",
       "      <th>age</th>\n",
       "      <th>sibsp</th>\n",
       "      <th>parch</th>\n",
       "      <th>fare</th>\n",
       "      <th>embarked</th>\n",
       "      <th>class</th>\n",
       "      <th>who</th>\n",
       "      <th>adult_male</th>\n",
       "      <th>deck</th>\n",
       "      <th>embark_town</th>\n",
       "      <th>alive</th>\n",
       "      <th>alone</th>\n",
       "    </tr>\n",
       "  </thead>\n",
       "  <tbody>\n",
       "    <tr>\n",
       "      <th>61</th>\n",
       "      <td>1</td>\n",
       "      <td>1</td>\n",
       "      <td>female</td>\n",
       "      <td>38.0</td>\n",
       "      <td>0</td>\n",
       "      <td>0</td>\n",
       "      <td>80.0</td>\n",
       "      <td>NaN</td>\n",
       "      <td>First</td>\n",
       "      <td>woman</td>\n",
       "      <td>False</td>\n",
       "      <td>B</td>\n",
       "      <td>NaN</td>\n",
       "      <td>yes</td>\n",
       "      <td>True</td>\n",
       "    </tr>\n",
       "    <tr>\n",
       "      <th>829</th>\n",
       "      <td>1</td>\n",
       "      <td>1</td>\n",
       "      <td>female</td>\n",
       "      <td>62.0</td>\n",
       "      <td>0</td>\n",
       "      <td>0</td>\n",
       "      <td>80.0</td>\n",
       "      <td>NaN</td>\n",
       "      <td>First</td>\n",
       "      <td>woman</td>\n",
       "      <td>False</td>\n",
       "      <td>B</td>\n",
       "      <td>NaN</td>\n",
       "      <td>yes</td>\n",
       "      <td>True</td>\n",
       "    </tr>\n",
       "  </tbody>\n",
       "</table>\n",
       "</div>"
      ],
      "text/plain": [
       "     survived  pclass     sex   age  sibsp  parch  fare embarked  class  \\\n",
       "61          1       1  female  38.0      0      0  80.0      NaN  First   \n",
       "829         1       1  female  62.0      0      0  80.0      NaN  First   \n",
       "\n",
       "       who  adult_male deck embark_town alive  alone  \n",
       "61   woman       False    B         NaN   yes   True  \n",
       "829  woman       False    B         NaN   yes   True  "
      ]
     },
     "execution_count": 11,
     "metadata": {},
     "output_type": "execute_result"
    }
   ],
   "source": [
    "# missing value\n",
    "df[df[\"embarked\"].isnull() == 1]"
   ]
  },
  {
   "cell_type": "markdown",
   "metadata": {},
   "source": [
    "**NOTE:** Since there are only 2 missing values in the `embarked` and `embark_town` column, and they belong to passengers with very similar characteristics, we can impute with mode among similar passengers rather than drop."
   ]
  },
  {
   "cell_type": "code",
   "execution_count": 12,
   "metadata": {},
   "outputs": [],
   "source": [
    "# use the most common embarkation port for that passenger's class\n",
    "common_embarked = df['embark_town'].mode()[0]\n",
    "df['embark_town'] = df.groupby('pclass')['embark_town'].transform(\n",
    "    lambda x: x.fillna(x.mode()[0]) if not x.mode().empty else common_embarked\n",
    ")"
   ]
  },
  {
   "cell_type": "code",
   "execution_count": 13,
   "metadata": {},
   "outputs": [
    {
     "data": {
      "text/html": [
       "<div>\n",
       "<style scoped>\n",
       "    .dataframe tbody tr th:only-of-type {\n",
       "        vertical-align: middle;\n",
       "    }\n",
       "\n",
       "    .dataframe tbody tr th {\n",
       "        vertical-align: top;\n",
       "    }\n",
       "\n",
       "    .dataframe thead th {\n",
       "        text-align: right;\n",
       "    }\n",
       "</style>\n",
       "<table border=\"1\" class=\"dataframe\">\n",
       "  <thead>\n",
       "    <tr style=\"text-align: right;\">\n",
       "      <th></th>\n",
       "      <th>survived</th>\n",
       "      <th>pclass</th>\n",
       "      <th>sex</th>\n",
       "      <th>age</th>\n",
       "      <th>sibsp</th>\n",
       "      <th>parch</th>\n",
       "      <th>fare</th>\n",
       "      <th>embarked</th>\n",
       "      <th>class</th>\n",
       "      <th>who</th>\n",
       "      <th>adult_male</th>\n",
       "      <th>deck</th>\n",
       "      <th>embark_town</th>\n",
       "      <th>alive</th>\n",
       "      <th>alone</th>\n",
       "    </tr>\n",
       "  </thead>\n",
       "  <tbody>\n",
       "    <tr>\n",
       "      <th>61</th>\n",
       "      <td>1</td>\n",
       "      <td>1</td>\n",
       "      <td>female</td>\n",
       "      <td>38.0</td>\n",
       "      <td>0</td>\n",
       "      <td>0</td>\n",
       "      <td>80.0</td>\n",
       "      <td>NaN</td>\n",
       "      <td>First</td>\n",
       "      <td>woman</td>\n",
       "      <td>False</td>\n",
       "      <td>B</td>\n",
       "      <td>Southampton</td>\n",
       "      <td>yes</td>\n",
       "      <td>True</td>\n",
       "    </tr>\n",
       "    <tr>\n",
       "      <th>829</th>\n",
       "      <td>1</td>\n",
       "      <td>1</td>\n",
       "      <td>female</td>\n",
       "      <td>62.0</td>\n",
       "      <td>0</td>\n",
       "      <td>0</td>\n",
       "      <td>80.0</td>\n",
       "      <td>NaN</td>\n",
       "      <td>First</td>\n",
       "      <td>woman</td>\n",
       "      <td>False</td>\n",
       "      <td>B</td>\n",
       "      <td>Southampton</td>\n",
       "      <td>yes</td>\n",
       "      <td>True</td>\n",
       "    </tr>\n",
       "  </tbody>\n",
       "</table>\n",
       "</div>"
      ],
      "text/plain": [
       "     survived  pclass     sex   age  sibsp  parch  fare embarked  class  \\\n",
       "61          1       1  female  38.0      0      0  80.0      NaN  First   \n",
       "829         1       1  female  62.0      0      0  80.0      NaN  First   \n",
       "\n",
       "       who  adult_male deck  embark_town alive  alone  \n",
       "61   woman       False    B  Southampton   yes   True  \n",
       "829  woman       False    B  Southampton   yes   True  "
      ]
     },
     "execution_count": 13,
     "metadata": {},
     "output_type": "execute_result"
    }
   ],
   "source": [
    "# check imputation\n",
    "df.iloc[[61, 829]]"
   ]
  },
  {
   "cell_type": "markdown",
   "metadata": {},
   "source": [
    "## Drop Redundant Columns\n",
    "**Less Useful Columns:**\n",
    "- `embarked` - Derived from `embark_town`\n",
    "- `class` - Derived from `pclass`\n",
    "- `adult_male` - Overlaps with `sex` and `who` columns\n",
    "- `deck` - Too many missing values and may not have strong predictive power\n",
    "- `alive` - Same as the target variable `survived`"
   ]
  },
  {
   "cell_type": "code",
   "execution_count": 14,
   "metadata": {},
   "outputs": [],
   "source": [
    "df.drop(['deck', 'embarked', 'alive', 'adult_male', 'class'], axis=1, inplace=True)"
   ]
  },
  {
   "cell_type": "code",
   "execution_count": 15,
   "metadata": {},
   "outputs": [
    {
     "data": {
      "text/plain": [
       "Index(['survived', 'pclass', 'sex', 'age', 'sibsp', 'parch', 'fare', 'who',\n",
       "       'embark_town', 'alone'],\n",
       "      dtype='object')"
      ]
     },
     "execution_count": 15,
     "metadata": {},
     "output_type": "execute_result"
    }
   ],
   "source": [
    "df.columns"
   ]
  },
  {
   "cell_type": "markdown",
   "metadata": {},
   "source": [
    "# Exploratory Data Analysis"
   ]
  },
  {
   "cell_type": "code",
   "execution_count": 16,
   "metadata": {},
   "outputs": [
    {
     "data": {
      "text/plain": [
       "<Figure size 800x400 with 0 Axes>"
      ]
     },
     "execution_count": 16,
     "metadata": {},
     "output_type": "execute_result"
    },
    {
     "data": {
      "text/plain": [
       "<Figure size 800x400 with 0 Axes>"
      ]
     },
     "metadata": {},
     "output_type": "display_data"
    }
   ],
   "source": [
    "# figure size\n",
    "plt.figure(figsize=(8, 4))"
   ]
  },
  {
   "cell_type": "markdown",
   "metadata": {},
   "source": [
    "## Histogram For Missing Value Data Distribution"
   ]
  },
  {
   "cell_type": "code",
   "execution_count": 17,
   "metadata": {},
   "outputs": [
    {
     "data": {
      "image/png": "[encoded data removed]",
      "text/plain": [
       "<Figure size 640x480 with 1 Axes>"
      ]
     },
     "metadata": {},
     "output_type": "display_data"
    }
   ],
   "source": [
    "# 'age' variable disribution\n",
    "sns.histplot(df['age'])\n",
    "plt.show()"
   ]
  },
  {
   "cell_type": "markdown",
   "metadata": {},
   "source": [
    "**Key Observations**\n",
    "- The age distribution is right-skewed (positively skewed), meaning most passengers are younger.\n",
    "- The peak age range is around 20–30 years, with the single most common group being 20–25.\n",
    "- A significant number of passengers are below 10, suggesting many children on board.\n",
    "- Fewer passengers are aged 60 and above.<br><br>\n",
    "\n",
    "**Key Takeaway**\n",
    "- The age data is not normally distributed, so using mean imputation may introduce bias.\n",
    "- The presence of skewness suggests median imputation is more robust.\n",
    "- There is variability across age groups, which aligns with the earlier boxplot findings—supporting segmentation-based imputation (e.g., by pclass, sex, or who).<br><br>\n",
    "\n",
    "**Action**\n",
    "- Impute missing age values using the median, possibly segmented by relevant categories"
   ]
  },
  {
   "cell_type": "markdown",
   "metadata": {},
   "source": [
    "## Boxplot to Examine Missing Value Distribution Accross Different Variables"
   ]
  },
  {
   "cell_type": "code",
   "execution_count": 18,
   "metadata": {},
   "outputs": [
    {
     "data": {
      "image/png": "[encoded data removed]",
      "text/plain": [
       "<Figure size 640x480 with 1 Axes>"
      ]
     },
     "metadata": {},
     "output_type": "display_data"
    }
   ],
   "source": [
    "# examine 'age' distribution accross passenger class\n",
    "sns.boxplot(data=df, x=\"pclass\", y='age', palette='viridis')\n",
    "\n",
    "# show plot\n",
    "plt.show()"
   ]
  },
  {
   "cell_type": "markdown",
   "metadata": {},
   "source": [
    "**Key Observations**\n",
    "1. Median age decreases with lower class:\n",
    "    - 1st class: ~37 years\n",
    "    - 2nd class: ~29 years\n",
    "    - 3rd class: ~24 years\n",
    "\n",
    "2. Age range and distribution vary significantly across classes.\n",
    "    - 1st class has the widest age spread with older passengers.\n",
    "    - 3rd class has more young passengers.\n",
    "3. Presence of outliers in all classes, especially in 2nd and 3rd.<br><br>\n",
    "\n",
    "**Key Takeaway**\n",
    "- There is a clear relationship between pclass and age, making pclass a strong candidate for estimating missing age values.<br><br>\n",
    "\n",
    "**Action**\n",
    "- Impute missing age values based on median or mean age within each pclass to preserve the relationship between class and age."
   ]
  },
  {
   "cell_type": "code",
   "execution_count": 19,
   "metadata": {},
   "outputs": [
    {
     "data": {
      "image/png": "[encoded data removed]",
      "text/plain": [
       "<Figure size 640x480 with 1 Axes>"
      ]
     },
     "metadata": {},
     "output_type": "display_data"
    }
   ],
   "source": [
    "# examine 'age' distribution accross gender\n",
    "sns.boxplot(data=df, x=\"sex\", y='age', palette='viridis')\n",
    "\n",
    "# show plot\n",
    "plt.show()"
   ]
  },
  {
   "cell_type": "markdown",
   "metadata": {},
   "source": [
    "**Key Observations**\n",
    "- The boxplot shows the distribution of passenger ages (age) split by sex (male and female).\n",
    "- Male Ages:\n",
    "    - Median age is around 30–40 years.\n",
    "    - The IQR is relatively wide, indicating variability in male ages.\n",
    "    - There are a few outliers above the upper whisker (~60–70 years).\n",
    "- Female Ages:\n",
    "    - Median age is around 25–30 years.\n",
    "    - The IQR is narrower compared to males, suggesting less variability.\n",
    "    - There are no visible outliers.<br><br>\n",
    "\n",
    "**Key Takeaway**\n",
    "- Males tend to be slightly older on average compared to females.\n",
    "- The age distribution for males is more spread out, while females have a more concentrated age range.\n",
    "- The presence of outliers in males suggests variability in older male passengers, which may require further investigation.<br><br>\n",
    "\n",
    "**Action**\n",
    "- Consider segmenting age imputation by sex to account for these differences.\n",
    "- Investigate the outliers in the male group to determine if they represent valid data or anomalies.\n",
    "- Use median imputation for missing age values, potentially segmented by sex to preserve demographic patterns."
   ]
  },
  {
   "cell_type": "markdown",
   "metadata": {},
   "source": [
    "## Handling Missing Values"
   ]
  },
  {
   "cell_type": "code",
   "execution_count": 20,
   "metadata": {},
   "outputs": [],
   "source": [
    "#  use group median age by sex and class\n",
    "df['age'] = df.groupby(['sex', 'pclass'])['age'].transform(lambda x: x.fillna(x.median()))"
   ]
  },
  {
   "cell_type": "code",
   "execution_count": 21,
   "metadata": {},
   "outputs": [
    {
     "data": {
      "text/plain": [
       "survived       0\n",
       "pclass         0\n",
       "sex            0\n",
       "age            0\n",
       "sibsp          0\n",
       "parch          0\n",
       "fare           0\n",
       "who            0\n",
       "embark_town    0\n",
       "alone          0\n",
       "dtype: int64"
      ]
     },
     "execution_count": 21,
     "metadata": {},
     "output_type": "execute_result"
    }
   ],
   "source": [
    "# check missing value status\n",
    "df.isnull().sum()"
   ]
  },
  {
   "cell_type": "markdown",
   "metadata": {},
   "source": [
    "## Univariate Analysis\n",
    "- countplot for unique value distribution"
   ]
  },
  {
   "cell_type": "code",
   "execution_count": 22,
   "metadata": {},
   "outputs": [
    {
     "data": {
      "image/png": "[encoded data removed]",
      "text/plain": [
       "<Figure size 640x480 with 1 Axes>"
      ]
     },
     "metadata": {},
     "output_type": "display_data"
    }
   ],
   "source": [
    "# countplot for survival\n",
    "sns.countplot(data=df, x=\"survived\", palette=\"mako\")\n",
    "\n",
    "# show plot\n",
    "plt.show()"
   ]
  },
  {
   "cell_type": "markdown",
   "metadata": {},
   "source": [
    "**Key Observations**\n",
    "- The bar chart shows the distribution of passengers based on their survival status (survived).\n",
    "- There are two categories:\n",
    "    - `0`: Passengers who did not survive (deceased).\n",
    "    - `1`: Passengers who survived.\n",
    "- The number of deceased passengers is significantly higher than the number of survivors, indicating a lower overall survival rate.<br><br>\n",
    "\n",
    "**Key Takeways**\n",
    "- The Titanic disaster had a high mortality rate, with more than twice as many passengers dying compared to surviving."
   ]
  },
  {
   "cell_type": "code",
   "execution_count": 23,
   "metadata": {},
   "outputs": [
    {
     "data": {
      "text/plain": [
       "survived\n",
       "0    549\n",
       "1    342\n",
       "Name: count, dtype: int64"
      ]
     },
     "execution_count": 23,
     "metadata": {},
     "output_type": "execute_result"
    }
   ],
   "source": [
    "# exact value of total survived\n",
    "df.survived.value_counts()"
   ]
  },
  {
   "cell_type": "markdown",
   "metadata": {},
   "source": [
    "## Binary Analysis\n",
    "Purpose: Whether the passenger survived by chance or did some the opporunities"
   ]
  },
  {
   "cell_type": "code",
   "execution_count": 24,
   "metadata": {},
   "outputs": [
    {
     "data": {
      "image/png": "[encoded data removed]",
      "text/plain": [
       "<Figure size 640x480 with 1 Axes>"
      ]
     },
     "metadata": {},
     "output_type": "display_data"
    }
   ],
   "source": [
    "# countplot for survived with chances\n",
    "sns.countplot(data=df, x=\"survived\", hue=\"alone\", palette=\"mako\")\n",
    "\n",
    "# show plot\n",
    "plt.show()"
   ]
  },
  {
   "cell_type": "markdown",
   "metadata": {},
   "source": [
    "**Key Observations**\n",
    "- The bar chart shows the distribution of passengers based on their survival status (survived) and whether they were traveling alone (alone).\n",
    "- There are two categories for alone:\n",
    "    - False: Passengers who were not traveling alone.\n",
    "    - True: Passengers who were traveling alone.<br><br>\n",
    "- Counts:\n",
    "    - Not Survived (0):\n",
    "        - Not Alone (False): Approximately 170 passengers.\n",
    "        - Alone (True): Approximately 360 passengers.\n",
    "    - Survived (1):\n",
    "        - Not Alone (False): Approximately 180 passengers.\n",
    "        - Alone (True): Approximately 160 passengers.\n",
    "\n",
    "\n",
    "**Key Takeways**\n",
    "- Higher Proportion of Alone Passengers Among Non-Survivors:\n",
    "    - A significantly larger number of passengers who did not survive were traveling alone (~360 vs. ~170 for those not alone).\n",
    "    - This suggests that traveling alone may have been a risk factor for survival.\n",
    "- Similar Proportions Among Survivors:\n",
    "    - The number of survivors is relatively balanced between those traveling alone (~160) and those not alone (~180)."
   ]
  },
  {
   "cell_type": "code",
   "execution_count": 25,
   "metadata": {},
   "outputs": [
    {
     "data": {
      "image/png": "[encoded data removed]",
      "text/plain": [
       "<Figure size 640x480 with 1 Axes>"
      ]
     },
     "metadata": {},
     "output_type": "display_data"
    }
   ],
   "source": [
    "# countplot for specific person\n",
    "sns.countplot(df, x='survived', hue='who', palette=\"mako\")\n",
    "\n",
    "plt.show()"
   ]
  },
  {
   "cell_type": "markdown",
   "metadata": {},
   "source": [
    "**Key Observations**\n",
    "- The bar chart shows the distribution of passengers based on their survival status (survived) and their role (who).\n",
    "- There are three categories for who:\n",
    "    - man: Male passengers.\n",
    "    - child: Child passengers.\n",
    "    - woman: Female passengers.\n",
    "- Counts\n",
    "    - Not Survived (0):\n",
    "        - Man: Approximately 450 passengers.\n",
    "        - Child: Approximately 30 passengers.\n",
    "        - Woman: Approximately 60 passengers.\n",
    "    - Survived (1):\n",
    "        - Man: Approximately 90 passengers.\n",
    "        - Child: Approximately 50 passengers.\n",
    "        - Woman: Approximately 200 passengers.<br><br>\n",
    "    \n",
    "**Key Takeaway**\n",
    "- Men Were Most Likely to Die:\n",
    "    - A significantly higher number of men did not survive (~450) compared to women (~60) and children (~30).\n",
    "    - This suggests that men were at a greater risk during the disaster.\n",
    "- Women Had Higher Survival Rates:\n",
    "    - Women had the highest survival rate among the three groups, with approximately 200 survivors.\n",
    "    - This aligns with historical accounts of \"women and children first\" policies during evacuations.\n",
    "- Children Showed Mixed Results:\n",
    "    - Fewer children died (~30) compared to men but more than women.\n",
    "    - Children had a moderate survival rate (~50 survived), indicating some protection but not as high as women.<br><br>\n",
    "\n",
    "**Decision**\n",
    "- The who feature is highly predictive of survival, especially when combined with other factors like pclass or alone."
   ]
  },
  {
   "cell_type": "code",
   "execution_count": 26,
   "metadata": {},
   "outputs": [
    {
     "data": {
      "image/png": "[encoded data removed]",
      "text/plain": [
       "<Figure size 640x480 with 1 Axes>"
      ]
     },
     "metadata": {},
     "output_type": "display_data"
    }
   ],
   "source": [
    "# countplot for embark_town\n",
    "sns.countplot(df, x='survived', hue='embark_town', palette=\"mako\")\n",
    "\n",
    "plt.show()"
   ]
  },
  {
   "cell_type": "markdown",
   "metadata": {},
   "source": [
    "**Key Observations**\n",
    "- The bar chart shows the distribution of passengers based on their survival status (survived) and whether they were traveling alone (alone).\n",
    "- There are two categories for alone:\n",
    "    - False: Passengers who were not traveling alone.\n",
    "    - True: Passengers who were traveling alone.\n",
    "- Counts:\n",
    "    - Not Survived (0):\n",
    "        -  Not Alone (False): Approximately 170 passengers.\n",
    "        -  Alone (True): Approximately 360 passengers.\n",
    "    - Survived (1):\n",
    "        -  Not Alone (False): Approximately 180 passengers.\n",
    "        -  Alone (True): Approximately 160 passengers.<br><br>\n",
    "\n",
    "**key Takeways**\n",
    "- Higher Proportion of Alone Passengers Among Non-Survivors:\n",
    "    - A significantly larger number of passengers who did not survive were traveling alone (~360 vs. ~170 for those not alone).\n",
    "    - This suggests that traveling alone may have been a risk factor for survival.\n",
    "- Similar Proportions Among Survivors:\n",
    "    - The number of survivors is relatively balanced between those traveling alone (~160) and those not alone (~180).<br><br>\n",
    "\n",
    "**Decision**\n",
    "- Consider the alone feature as potentially important for predicting survival, especially given its apparent correlation with non-survival.\n"
   ]
  },
  {
   "cell_type": "code",
   "execution_count": 27,
   "metadata": {},
   "outputs": [
    {
     "data": {
      "text/plain": [
       "embark_town  survived\n",
       "Cherbourg    0            75\n",
       "             1            93\n",
       "Queenstown   0            47\n",
       "             1            30\n",
       "Southampton  0           427\n",
       "             1           219\n",
       "Name: survived, dtype: int64"
      ]
     },
     "execution_count": 27,
     "metadata": {},
     "output_type": "execute_result"
    }
   ],
   "source": [
    "# exact value count\n",
    "df.groupby(['embark_town', 'survived'])['survived'].count()"
   ]
  },
  {
   "cell_type": "code",
   "execution_count": 28,
   "metadata": {},
   "outputs": [
    {
     "data": {
      "image/png": "[encoded data removed]",
      "text/plain": [
       "<Figure size 640x480 with 1 Axes>"
      ]
     },
     "metadata": {},
     "output_type": "display_data"
    }
   ],
   "source": [
    "# countplot for passenger class\n",
    "sns.countplot(df, x='survived', hue='pclass', palette=\"viridis\")\n",
    "\n",
    "plt.show()"
   ]
  },
  {
   "cell_type": "markdown",
   "metadata": {},
   "source": [
    "**Key Observations**\n",
    "- The bar chart shows the distribution of passengers based on their survival status (survived) and their passenger class (pclass).\n",
    "- There are three categories for pclass:\n",
    "    - 1: First-class passengers.\n",
    "    - 2: Second-class passengers.\n",
    "    - 3: Third-class passengers.\n",
    "- Counts:\n",
    "    - Not Survived (0):\n",
    "        - First Class (1): Approximately 80 passengers.\n",
    "        - Second Class (2): Approximately 90 passengers.\n",
    "        - Third Class (3): Approximately 360 passengers.\n",
    "    - Survived (1):\n",
    "        - First Class (1): Approximately 130 passengers.\n",
    "        - Second Class (2): Approximately 90 passengers.\n",
    "        - Third Class (3): Approximately 120 passengers. <br><br>\n",
    "\n",
    "**Key Takeways**\n",
    "- Third Class Had the Highest Mortality Rate:\n",
    "    - A significantly higher number of third-class passengers did not survive (~360) compared to first (~80) and second (~90) classes.\n",
    "    - This suggests that being in a lower class was associated with a higher risk of death.\n",
    "- First Class Showed Higher Survival Rates:\n",
    "    - First-class passengers had the highest survival rate among the three classes, with approximately 130 survivors.\n",
    "    - This aligns with historical accounts where first-class passengers had better access to lifeboats and resources during the disaster.\n",
    "- Second Class Was Intermediate:\n",
    "    - Second-class passengers showed intermediate survival rates (~90 survived), suggesting a balance between the privileges of first class and the challenges faced by third class.<br><br>\n",
    "\n",
    "**Decision**\n",
    "- The ``pclass` feature is highly predictive of survival, reflecting significant class disparities in outcomes."
   ]
  }
 ],
 "metadata": {
  "kernelspec": {
   "display_name": "Python 3",
   "language": "python",
   "name": "python3"
  },
  "language_info": {
   "codemirror_mode": {
    "name": "ipython",
    "version": 3
   },
   "file_extension": ".py",
   "mimetype": "text/x-python",
   "name": "python",
   "nbconvert_exporter": "python",
   "pygments_lexer": "ipython3",
   "version": "3.9.1"
  }
 },
 "nbformat": 4,
 "nbformat_minor": 4
}
